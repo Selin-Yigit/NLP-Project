{
 "cells": [
  {
   "cell_type": "code",
   "execution_count": 1,
   "id": "e097082f",
   "metadata": {},
   "outputs": [],
   "source": [
    "import csv\n",
    "import json\n",
    "\n",
    "import numpy\n",
    "import pandas\n",
    "from time import time \n",
    "import re\n",
    "\n",
    "from matplotlib import pyplot\n",
    "import seaborn as sns\n",
    "\n",
    "import string\n",
    "import nltk\n",
    "from nltk.corpus import stopwords\n",
    "from nltk.stem.porter import PorterStemmer\n",
    "from nltk.tokenize import word_tokenize\n",
    "\n",
    "from sklearn.metrics import classification_report\n",
    "from sklearn.feature_extraction.text import CountVectorizer"
   ]
  },
  {
   "cell_type": "code",
   "execution_count": 2,
   "id": "5d103497",
   "metadata": {},
   "outputs": [],
   "source": [
    "# eğitim ve test verilerini aldık\n",
    "authored_contents = pandas.read_csv(\"C:/Users/Selin/Desktop/JupyterProjects/train.csv\")\n",
    "unauthored_contents = pandas.read_csv(\"C:/Users/Selin/Desktop/JupyterProjects/test.csv\")"
   ]
  },
  {
   "cell_type": "code",
   "execution_count": 3,
   "id": "e72ba9ac",
   "metadata": {},
   "outputs": [
    {
     "data": {
      "text/html": [
       "<div>\n",
       "<style scoped>\n",
       "    .dataframe tbody tr th:only-of-type {\n",
       "        vertical-align: middle;\n",
       "    }\n",
       "\n",
       "    .dataframe tbody tr th {\n",
       "        vertical-align: top;\n",
       "    }\n",
       "\n",
       "    .dataframe thead th {\n",
       "        text-align: right;\n",
       "    }\n",
       "</style>\n",
       "<table border=\"1\" class=\"dataframe\">\n",
       "  <thead>\n",
       "    <tr style=\"text-align: right;\">\n",
       "      <th></th>\n",
       "      <th>id</th>\n",
       "      <th>text</th>\n",
       "      <th>author</th>\n",
       "    </tr>\n",
       "  </thead>\n",
       "  <tbody>\n",
       "    <tr>\n",
       "      <th>0</th>\n",
       "      <td>id26305</td>\n",
       "      <td>This process, however, afforded me no means of...</td>\n",
       "      <td>EAP</td>\n",
       "    </tr>\n",
       "    <tr>\n",
       "      <th>1</th>\n",
       "      <td>id17569</td>\n",
       "      <td>It never once occurred to me that the fumbling...</td>\n",
       "      <td>HPL</td>\n",
       "    </tr>\n",
       "    <tr>\n",
       "      <th>2</th>\n",
       "      <td>id11008</td>\n",
       "      <td>In his left hand was a gold snuff box, from wh...</td>\n",
       "      <td>EAP</td>\n",
       "    </tr>\n",
       "    <tr>\n",
       "      <th>3</th>\n",
       "      <td>id27763</td>\n",
       "      <td>How lovely is spring As we looked from Windsor...</td>\n",
       "      <td>MWS</td>\n",
       "    </tr>\n",
       "    <tr>\n",
       "      <th>4</th>\n",
       "      <td>id12958</td>\n",
       "      <td>Finding nothing else, not even gold, the Super...</td>\n",
       "      <td>HPL</td>\n",
       "    </tr>\n",
       "  </tbody>\n",
       "</table>\n",
       "</div>"
      ],
      "text/plain": [
       "        id                                               text author\n",
       "0  id26305  This process, however, afforded me no means of...    EAP\n",
       "1  id17569  It never once occurred to me that the fumbling...    HPL\n",
       "2  id11008  In his left hand was a gold snuff box, from wh...    EAP\n",
       "3  id27763  How lovely is spring As we looked from Windsor...    MWS\n",
       "4  id12958  Finding nothing else, not even gold, the Super...    HPL"
      ]
     },
     "execution_count": 3,
     "metadata": {},
     "output_type": "execute_result"
    }
   ],
   "source": [
    "authored_contents.head()"
   ]
  },
  {
   "cell_type": "code",
   "execution_count": 4,
   "id": "652c7124",
   "metadata": {},
   "outputs": [
    {
     "data": {
      "text/html": [
       "<div>\n",
       "<style scoped>\n",
       "    .dataframe tbody tr th:only-of-type {\n",
       "        vertical-align: middle;\n",
       "    }\n",
       "\n",
       "    .dataframe tbody tr th {\n",
       "        vertical-align: top;\n",
       "    }\n",
       "\n",
       "    .dataframe thead th {\n",
       "        text-align: right;\n",
       "    }\n",
       "</style>\n",
       "<table border=\"1\" class=\"dataframe\">\n",
       "  <thead>\n",
       "    <tr style=\"text-align: right;\">\n",
       "      <th></th>\n",
       "      <th>id</th>\n",
       "      <th>text</th>\n",
       "    </tr>\n",
       "  </thead>\n",
       "  <tbody>\n",
       "    <tr>\n",
       "      <th>0</th>\n",
       "      <td>id02310</td>\n",
       "      <td>Still, as I urged our leaving Ireland with suc...</td>\n",
       "    </tr>\n",
       "    <tr>\n",
       "      <th>1</th>\n",
       "      <td>id24541</td>\n",
       "      <td>If a fire wanted fanning, it could readily be ...</td>\n",
       "    </tr>\n",
       "    <tr>\n",
       "      <th>2</th>\n",
       "      <td>id00134</td>\n",
       "      <td>And when they had broken down the frail door t...</td>\n",
       "    </tr>\n",
       "    <tr>\n",
       "      <th>3</th>\n",
       "      <td>id27757</td>\n",
       "      <td>While I was thinking how I should possibly man...</td>\n",
       "    </tr>\n",
       "    <tr>\n",
       "      <th>4</th>\n",
       "      <td>id04081</td>\n",
       "      <td>I am not sure to what limit his knowledge may ...</td>\n",
       "    </tr>\n",
       "  </tbody>\n",
       "</table>\n",
       "</div>"
      ],
      "text/plain": [
       "        id                                               text\n",
       "0  id02310  Still, as I urged our leaving Ireland with suc...\n",
       "1  id24541  If a fire wanted fanning, it could readily be ...\n",
       "2  id00134  And when they had broken down the frail door t...\n",
       "3  id27757  While I was thinking how I should possibly man...\n",
       "4  id04081  I am not sure to what limit his knowledge may ..."
      ]
     },
     "execution_count": 4,
     "metadata": {},
     "output_type": "execute_result"
    }
   ],
   "source": [
    "unauthored_contents.head()"
   ]
  },
  {
   "cell_type": "code",
   "execution_count": 5,
   "id": "ce33d1e5",
   "metadata": {},
   "outputs": [
    {
     "data": {
      "text/plain": [
       "(19579, 3)"
      ]
     },
     "execution_count": 5,
     "metadata": {},
     "output_type": "execute_result"
    }
   ],
   "source": [
    "authored_contents.shape"
   ]
  },
  {
   "cell_type": "code",
   "execution_count": 6,
   "id": "c4441d3b",
   "metadata": {},
   "outputs": [],
   "source": [
    "# eğitim verilerini yazarlara göre gruplandırdık\n",
    "training_records = len(authored_contents)\n",
    "\n",
    "author_eap, author_mws, author_hpl = authored_contents.author.value_counts()"
   ]
  },
  {
   "cell_type": "code",
   "execution_count": 7,
   "id": "0b5d5dd6",
   "metadata": {},
   "outputs": [],
   "source": [
    "# her içeriğin text uzunluğunu bulduk\n",
    "authored_contents['text_length'] = authored_contents['text'].str.len()"
   ]
  },
  {
   "cell_type": "code",
   "execution_count": 8,
   "id": "aea7b4bc",
   "metadata": {},
   "outputs": [
    {
     "name": "stderr",
     "output_type": "stream",
     "text": [
      "C:\\Users\\Selin\\anaconda3\\lib\\site-packages\\seaborn\\_decorators.py:36: FutureWarning: Pass the following variable as a keyword arg: x. From version 0.12, the only valid positional argument will be `data`, and passing other arguments without an explicit keyword will result in an error or misinterpretation.\n",
      "  warnings.warn(\n"
     ]
    },
    {
     "data": {
      "image/png": "[encoded data removed]",
      "text/plain": [
       "<Figure size 1400x500 with 1 Axes>"
      ]
     },
     "metadata": {},
     "output_type": "display_data"
    }
   ],
   "source": [
    "#yazarlara göre veri dağılımını bulduk ve tablo olarak gösterdik(2 üstte toplamları bulmuştuk)\n",
    "pyplot.figure(figsize=(14,5))\n",
    "sns.countplot(authored_contents['author'],)\n",
    "pyplot.xlabel('Author')\n",
    "pyplot.title('Target variable distribution')\n",
    "pyplot.show()"
   ]
  },
  {
   "cell_type": "code",
   "execution_count": 9,
   "id": "e65cc714",
   "metadata": {},
   "outputs": [
    {
     "data": {
      "text/plain": [
       "author\n",
       "EAP    7900\n",
       "HPL    5635\n",
       "MWS    6044\n",
       "dtype: int64"
      ]
     },
     "execution_count": 9,
     "metadata": {},
     "output_type": "execute_result"
    }
   ],
   "source": [
    "#yazarlara göre dokümanları grupladırdık\n",
    "authored_contents.groupby('author').size() "
   ]
  },
  {
   "cell_type": "code",
   "execution_count": 10,
   "id": "fc003557",
   "metadata": {},
   "outputs": [],
   "source": [
    "# test verilerinin text uzunluğunu bulduk\n",
    "\n",
    "testing_records = len(unauthored_contents)\n",
    "\n",
    "unauthored_contents['text_length'] = unauthored_contents['text'].str.len()"
   ]
  },
  {
   "cell_type": "code",
   "execution_count": 11,
   "id": "243f41ac",
   "metadata": {},
   "outputs": [],
   "source": [
    "# belirli parametreleri kullanarak her yazarın yazım şekillerini inceledik.\n",
    "def text_len(df):\n",
    "    df['num_words'] = df['text'].apply(lambda x: len(str(x).split()))\n",
    "    df['num_uniq_words'] = df['text'].apply(lambda x: len(set(str(x).split())))\n",
    "    df['num_chars'] = df['text'].apply(lambda x: len(str(x)))\n",
    "    df['num_stopwords'] = df['text'].apply(lambda x: len([w for w in str(x).lower().split() if w in set(stopwords.words('english'))]))\n",
    "    df['num_punctuations'] = df['text'].apply(lambda x: len([w for w in str(x) if w in string.punctuation]))\n",
    "    df['num_words_upper'] = df['text'].apply(lambda x: len([w for w in str(x).split() if w.isupper()]))\n",
    "    df['num_words_title'] = df['text'].apply(lambda x: len([w for w in str(x).split() if w.istitle()]))\n",
    "    df['mean_word_len'] = df['text'].apply(lambda x: numpy.mean([len(w) for w in str(x).split()]))\n",
    "    df['num_character_len'] = df['text'].apply(lambda x: len(x))"
   ]
  },
  {
   "cell_type": "code",
   "execution_count": 12,
   "id": "63b41917",
   "metadata": {},
   "outputs": [],
   "source": [
    "text_len(authored_contents)\n",
    "text_len(unauthored_contents)"
   ]
  },
  {
   "cell_type": "code",
   "execution_count": 13,
   "id": "00c64a5d",
   "metadata": {},
   "outputs": [],
   "source": [
    "def plot_heatmap(df):\n",
    "    pyplot.figure(figsize=(14,6))\n",
    "\n",
    "    pyplot.subplot(211)\n",
    "    sns.heatmap(pandas.crosstab(df['author'], df['num_words']), cmap='gist_earth', xticklabels=True)\n",
    "    pyplot.xlabel('Original text word count')\n",
    "    pyplot.ylabel('Author')\n",
    "    pyplot.tight_layout()\n",
    "    pyplot.show()\n",
    "\n",
    "\n",
    "    pyplot.subplot(212)\n",
    "    sns.heatmap(pandas.crosstab(df['author'], df['num_uniq_words']), cmap='gist_heat', xticklabels=True)\n",
    "    pyplot.xlabel('Unique text word count')\n",
    "    pyplot.ylabel('Author')\n",
    "    pyplot.tight_layout()\n",
    "    pyplot.show()\n",
    "\n",
    "\n",
    "    pyplot.subplot(212)\n",
    "    sns.heatmap(pandas.crosstab(df['author'], df['num_punctuations']), cmap='gist_heat', xticklabels=True)\n",
    "    pyplot.xlabel('Punctuations')\n",
    "    pyplot.ylabel('Author')\n",
    "    pyplot.tight_layout()\n",
    "    pyplot.show()\n",
    "\n",
    "\n",
    "    pyplot.subplot(212)\n",
    "    sns.heatmap(pandas.crosstab(df['author'], df['mean_word_len']), cmap='gist_heat', xticklabels=False)\n",
    "    pyplot.xlabel('Mean word length')\n",
    "    pyplot.ylabel('Author')\n",
    "    pyplot.tight_layout()\n",
    "    pyplot.show()"
   ]
  },
  {
   "cell_type": "code",
   "execution_count": 14,
   "id": "efb62121",
   "metadata": {
    "scrolled": false
   },
   "outputs": [
    {
     "data": {
      "image/png": "[encoded data removed]",
      "text/plain": [
       "<Figure size 1400x600 with 2 Axes>"
      ]
     },
     "metadata": {},
     "output_type": "display_data"
    },
    {
     "data": {
      "image/png": "[encoded data removed]",
      "text/plain": [
       "<Figure size 640x480 with 2 Axes>"
      ]
     },
     "metadata": {},
     "output_type": "display_data"
    },
    {
     "data": {
      "image/png": "[encoded data removed]",
      "text/plain": [
       "<Figure size 640x480 with 2 Axes>"
      ]
     },
     "metadata": {},
     "output_type": "display_data"
    },
    {
     "data": {
      "image/png": "[encoded data removed]",
      "text/plain": [
       "<Figure size 640x480 with 2 Axes>"
      ]
     },
     "metadata": {},
     "output_type": "display_data"
    }
   ],
   "source": [
    "plot_heatmap(authored_contents)\n"
   ]
  },
  {
   "cell_type": "code",
   "execution_count": 15,
   "id": "fcbf61f5",
   "metadata": {},
   "outputs": [],
   "source": [
    "eap_documents = authored_contents[authored_contents.author == 'EAP']['text'].values\n",
    "hpl_documents = authored_contents[authored_contents.author == 'HPL']['text'].values\n",
    "mws_documents = authored_contents[authored_contents.author == 'MWS']['text'].values"
   ]
  },
  {
   "cell_type": "code",
   "execution_count": 16,
   "id": "5905a2a3",
   "metadata": {},
   "outputs": [],
   "source": [
    "eap_words = \" \".join(eap_documents)\n",
    "hpl_words = \" \".join(hpl_documents)\n",
    "mws_words = \" \".join(mws_documents)"
   ]
  },
  {
   "cell_type": "code",
   "execution_count": 17,
   "id": "6a9c023e",
   "metadata": {},
   "outputs": [
    {
     "name": "stdout",
     "output_type": "stream",
     "text": [
      "Requirement already satisfied: wordcloud in c:\\users\\selin\\anaconda3\\lib\\site-packages (1.8.2.2)\n",
      "Requirement already satisfied: pillow in c:\\users\\selin\\anaconda3\\lib\\site-packages (from wordcloud) (9.2.0)\n",
      "Requirement already satisfied: matplotlib in c:\\users\\selin\\anaconda3\\lib\\site-packages (from wordcloud) (3.5.2)\n",
      "Requirement already satisfied: numpy>=1.6.1 in c:\\users\\selin\\anaconda3\\lib\\site-packages (from wordcloud) (1.21.5)\n",
      "Requirement already satisfied: fonttools>=4.22.0 in c:\\users\\selin\\anaconda3\\lib\\site-packages (from matplotlib->wordcloud) (4.25.0)\n",
      "Requirement already satisfied: python-dateutil>=2.7 in c:\\users\\selin\\anaconda3\\lib\\site-packages (from matplotlib->wordcloud) (2.8.2)\n",
      "Requirement already satisfied: packaging>=20.0 in c:\\users\\selin\\anaconda3\\lib\\site-packages (from matplotlib->wordcloud) (21.3)\n",
      "Requirement already satisfied: pyparsing>=2.2.1 in c:\\users\\selin\\anaconda3\\lib\\site-packages (from matplotlib->wordcloud) (3.0.9)\n",
      "Requirement already satisfied: kiwisolver>=1.0.1 in c:\\users\\selin\\anaconda3\\lib\\site-packages (from matplotlib->wordcloud) (1.4.2)\n",
      "Requirement already satisfied: cycler>=0.10 in c:\\users\\selin\\anaconda3\\lib\\site-packages (from matplotlib->wordcloud) (0.11.0)\n",
      "Requirement already satisfied: six>=1.5 in c:\\users\\selin\\anaconda3\\lib\\site-packages (from python-dateutil>=2.7->matplotlib->wordcloud) (1.16.0)\n"
     ]
    }
   ],
   "source": [
    "!pip install wordcloud"
   ]
  },
  {
   "cell_type": "code",
   "execution_count": 18,
   "id": "949ebc15",
   "metadata": {},
   "outputs": [
    {
     "data": {
      "text/html": [
       "<div>\n",
       "<style scoped>\n",
       "    .dataframe tbody tr th:only-of-type {\n",
       "        vertical-align: middle;\n",
       "    }\n",
       "\n",
       "    .dataframe tbody tr th {\n",
       "        vertical-align: top;\n",
       "    }\n",
       "\n",
       "    .dataframe thead th {\n",
       "        text-align: right;\n",
       "    }\n",
       "</style>\n",
       "<table border=\"1\" class=\"dataframe\">\n",
       "  <thead>\n",
       "    <tr style=\"text-align: right;\">\n",
       "      <th></th>\n",
       "      <th>text</th>\n",
       "      <th>author</th>\n",
       "      <th>numerical_author</th>\n",
       "    </tr>\n",
       "  </thead>\n",
       "  <tbody>\n",
       "    <tr>\n",
       "      <th>0</th>\n",
       "      <td>This process, however, afforded me no means of...</td>\n",
       "      <td>EAP</td>\n",
       "      <td>0</td>\n",
       "    </tr>\n",
       "    <tr>\n",
       "      <th>1</th>\n",
       "      <td>It never once occurred to me that the fumbling...</td>\n",
       "      <td>HPL</td>\n",
       "      <td>1</td>\n",
       "    </tr>\n",
       "    <tr>\n",
       "      <th>2</th>\n",
       "      <td>In his left hand was a gold snuff box, from wh...</td>\n",
       "      <td>EAP</td>\n",
       "      <td>0</td>\n",
       "    </tr>\n",
       "    <tr>\n",
       "      <th>3</th>\n",
       "      <td>How lovely is spring As we looked from Windsor...</td>\n",
       "      <td>MWS</td>\n",
       "      <td>2</td>\n",
       "    </tr>\n",
       "    <tr>\n",
       "      <th>4</th>\n",
       "      <td>Finding nothing else, not even gold, the Super...</td>\n",
       "      <td>HPL</td>\n",
       "      <td>1</td>\n",
       "    </tr>\n",
       "  </tbody>\n",
       "</table>\n",
       "</div>"
      ],
      "text/plain": [
       "                                                text author  numerical_author\n",
       "0  This process, however, afforded me no means of...    EAP                 0\n",
       "1  It never once occurred to me that the fumbling...    HPL                 1\n",
       "2  In his left hand was a gold snuff box, from wh...    EAP                 0\n",
       "3  How lovely is spring As we looked from Windsor...    MWS                 2\n",
       "4  Finding nothing else, not even gold, the Super...    HPL                 1"
      ]
     },
     "execution_count": 18,
     "metadata": {},
     "output_type": "execute_result"
    }
   ],
   "source": [
    "# her yazara bir sayı atanarak nümerik bir hale getirildi.\n",
    "authored_contents['numerical_author'] = authored_contents.author.map({ 'EAP': 0, 'HPL': 1, 'MWS': 2 })\n",
    "authored_contents[['text', 'author', 'numerical_author']].head()"
   ]
  },
  {
   "cell_type": "code",
   "execution_count": 19,
   "id": "548ca8cc",
   "metadata": {},
   "outputs": [
    {
     "name": "stdout",
     "output_type": "stream",
     "text": [
      "Requirement already satisfied: nltk in c:\\users\\selin\\anaconda3\\lib\\site-packages (3.7)\n",
      "Requirement already satisfied: regex>=2021.8.3 in c:\\users\\selin\\anaconda3\\lib\\site-packages (from nltk) (2022.7.9)\n",
      "Requirement already satisfied: click in c:\\users\\selin\\anaconda3\\lib\\site-packages (from nltk) (8.0.4)\n",
      "Requirement already satisfied: joblib in c:\\users\\selin\\anaconda3\\lib\\site-packages (from nltk) (1.1.0)\n",
      "Requirement already satisfied: tqdm in c:\\users\\selin\\anaconda3\\lib\\site-packages (from nltk) (4.64.1)\n",
      "Requirement already satisfied: colorama in c:\\users\\selin\\anaconda3\\lib\\site-packages (from click->nltk) (0.4.5)\n"
     ]
    }
   ],
   "source": [
    "!pip install nltk"
   ]
  },
  {
   "cell_type": "code",
   "execution_count": 20,
   "id": "3c939170",
   "metadata": {},
   "outputs": [],
   "source": [
    "#verinin temizlenmesi\n",
    "\n",
    "all_stopwords = stopwords.words('english')\n",
    "ps = PorterStemmer()\n",
    "\n",
    "def scrub_text(data_frame):\n",
    "    \n",
    "    sentences = []\n",
    "    for i in data_frame.values:\n",
    "\n",
    "        # sentence = unicode(i[1], 'utf-8')\n",
    "        sentence = i[1]\n",
    "\n",
    "        # noktalama işaretlerini kaldırdık.\n",
    "        sentence = sentence.translate(string.punctuation)\n",
    "        \n",
    "        # cümleyi kelimelere ayırdık.\n",
    "        array_of_words = word_tokenize(sentence)\n",
    "        \n",
    "        #Linkleri kaldırdık\n",
    "        sentence = re.sub(r'@\\S+','',sentence)\n",
    "        sentence = re.sub(r'http\\S+','',sentence)\n",
    "        sentence = re.sub(r'https\\S+','',sentence)\n",
    "        sentence = re.sub(r'pic.\\S+','',sentence)\n",
    "        \n",
    "        # etkisiz kelimeleri yani ingilizcdeki and, is, a gibi kelimeleri kaldırdık.\n",
    "        array_of_words = [word for word in array_of_words if word.lower() not in all_stopwords]\n",
    "\n",
    "        # array_of_words dizisinin içinde aynı olan kelimeleri tek hale getirdik.\n",
    "        array_of_words = [ps.stem(word) for word in array_of_words]\n",
    "        cleaned_sentence = ' '.join(array_of_words)\n",
    "\n",
    "        sentences.append(cleaned_sentence)\n",
    "\n",
    "    return sentences"
   ]
  },
  {
   "cell_type": "code",
   "execution_count": 21,
   "id": "68b3c40a",
   "metadata": {},
   "outputs": [],
   "source": [
    "# Eğitim ve test verileri üzerinde temizleme işlemini yaptık.\n",
    "\n",
    "training_cleaned_texts = scrub_text(authored_contents)\n",
    "testing_cleaned_texts = scrub_text(unauthored_contents)"
   ]
  },
  {
   "cell_type": "code",
   "execution_count": 22,
   "id": "5ac03f1c",
   "metadata": {},
   "outputs": [],
   "source": [
    "authored_contents['scrubbed_text'] = training_cleaned_texts\n",
    "\n",
    "unauthored_contents['scrubbed_text'] = testing_cleaned_texts"
   ]
  },
  {
   "cell_type": "code",
   "execution_count": 23,
   "id": "ba589d88",
   "metadata": {},
   "outputs": [],
   "source": [
    "X = authored_contents['scrubbed_text']\n",
    "Y = authored_contents['numerical_author']"
   ]
  },
  {
   "cell_type": "code",
   "execution_count": 24,
   "id": "8bc18d61",
   "metadata": {},
   "outputs": [
    {
     "name": "stdout",
     "output_type": "stream",
     "text": [
      "Requirement already satisfied: sklearn in c:\\users\\selin\\anaconda3\\lib\\site-packages (0.0.post1)\n"
     ]
    }
   ],
   "source": [
    "!pip install sklearn"
   ]
  },
  {
   "cell_type": "code",
   "execution_count": 25,
   "id": "0b3e9f6a",
   "metadata": {},
   "outputs": [],
   "source": [
    "import sklearn"
   ]
  },
  {
   "cell_type": "code",
   "execution_count": 26,
   "id": "bf365915",
   "metadata": {
    "scrolled": true
   },
   "outputs": [],
   "source": [
    "#burda test ve eğitim verilerini ayırdık %20 %80\n",
    "from sklearn.model_selection import train_test_split\n",
    "\n",
    "X_train, X_test, Y_train, Y_test = train_test_split(X,Y,test_size = 0.2,random_state = 0)"
   ]
  },
  {
   "cell_type": "code",
   "execution_count": 27,
   "id": "4c4f33e6",
   "metadata": {},
   "outputs": [
    {
     "name": "stdout",
     "output_type": "stream",
     "text": [
      "Training set has 15663 features.\n",
      "Testing set has 3916 features.\n",
      "Training set has 15663 labels.\n",
      "Testing set has 3916 labels.\n",
      "\n",
      "Printing labels set...\n",
      "0    6300\n",
      "2    4830\n",
      "1    4533\n",
      "Name: numerical_author, dtype: int64\n",
      "0    1600\n",
      "2    1214\n",
      "1    1102\n",
      "Name: numerical_author, dtype: int64\n"
     ]
    }
   ],
   "source": [
    "# ayrımı gösterdik.\n",
    "\n",
    "# Features features selection daha yapılmadı burda toplam veriden bahsediyoruz.\n",
    "print(\"Training set has \" + str(X_train.shape[0]) + \" features.\")\n",
    "print(\"Testing set has \" + str(X_test.shape[0]) + \" features.\")\n",
    "\n",
    "# Labels\n",
    "print(\"Training set has \" + str(Y_train.shape[0]) + \" labels.\")\n",
    "print(\"Testing set has \" + str(Y_test.shape[0]) + \" labels.\")\n",
    "\n",
    "print(\"\\nPrinting labels set...\")\n",
    "print(Y_train.value_counts())\n",
    "\n",
    "print(Y_test.value_counts())"
   ]
  },
  {
   "cell_type": "code",
   "execution_count": 28,
   "id": "bfaa16d3",
   "metadata": {},
   "outputs": [],
   "source": [
    "#çapraz doğrulama burda train'in de bir kısmı öğrenirken diğer kısmı doğrulama yapıyor.\n",
    "X2_train, X2_test, Y2_train, Y2_test = train_test_split(X,Y,stratify = Y,test_size = 0.2,random_state = 42, shuffle = True)"
   ]
  },
  {
   "cell_type": "code",
   "execution_count": 29,
   "id": "e2ff829f",
   "metadata": {},
   "outputs": [],
   "source": [
    "#eğitim setinde feature selection yapıldı.\n",
    "from sklearn.feature_extraction.text import CountVectorizer\n",
    "\n",
    "vectorizer = CountVectorizer()\n",
    "vectorizer.fit(X2_train)\n",
    "\n",
    "#giriş verilerini vektörize ettik. algoritmalarda bu yapıyı kullanacağız.\n",
    "training_vectorizer = vectorizer.transform(X2_train)"
   ]
  },
  {
   "cell_type": "code",
   "execution_count": 30,
   "id": "186aefe1",
   "metadata": {},
   "outputs": [
    {
     "name": "stdout",
     "output_type": "stream",
     "text": [
      "14280\n"
     ]
    }
   ],
   "source": [
    "#vektor uzunluğu bulundu\n",
    "print(len(vectorizer.get_feature_names_out())) \n",
    "#X2_test içinde feature selection yapıldı\n",
    "testing_vectorizer = vectorizer.transform(X2_test)"
   ]
  },
  {
   "cell_type": "code",
   "execution_count": 31,
   "id": "26e9e2f2",
   "metadata": {},
   "outputs": [],
   "source": [
    "from sklearn.naive_bayes import MultinomialNB\n",
    "from sklearn.model_selection import KFold\n",
    "from sklearn.model_selection import cross_val_score"
   ]
  },
  {
   "cell_type": "code",
   "execution_count": 32,
   "id": "2907cf73",
   "metadata": {
    "scrolled": true
   },
   "outputs": [
    {
     "name": "stdout",
     "output_type": "stream",
     "text": [
      "Mean value: 0.8227032481065006\n",
      "Training time: 0.0508267879486084\n"
     ]
    }
   ],
   "source": [
    "#Multinomial Naive Bayes\n",
    "\n",
    "kfold = KFold(n_splits = 10, random_state = 7, shuffle=True)\n",
    "model = MultinomialNB()\n",
    "start = time()\n",
    "#result ta parametreler sırasıyla kullanılan algo. vektörize edilmiş girdi verisi\n",
    "#sonucu karşılaştırmak için kullanılacak veriler\n",
    "results = cross_val_score(model, training_vectorizer, Y2_train, cv=kfold)\n",
    "end = time()\n",
    "\n",
    "NBmvalue = str(results.mean())\n",
    "NBttime = str((end - start))\n",
    "print(\"Mean value: \" + NBmvalue)\n",
    "print(\"Training time: \" + NBttime)"
   ]
  },
  {
   "cell_type": "code",
   "execution_count": 33,
   "id": "394c2080",
   "metadata": {},
   "outputs": [
    {
     "name": "stdout",
     "output_type": "stream",
     "text": [
      "Mean value: 0.7680529372979256\n",
      "Training time: 254.48486018180847\n"
     ]
    }
   ],
   "source": [
    "#SVM\n",
    "from sklearn.svm import SVC\n",
    "\n",
    "kfold = KFold(n_splits = 10, random_state = 7,shuffle = True)\n",
    "\n",
    "model = SVC()\n",
    "start = time()\n",
    "#result ta parametreler sırasıyla kullanılan algo. vektörize edilmiş girdi verisi\n",
    "#sonucu karşılaştırmak için kullanılacak veriler\n",
    "results = cross_val_score(model, training_vectorizer, Y2_train, cv=kfold)\n",
    "end = time()\n",
    "SVMmvalue = str(results.mean())\n",
    "SVMttime = str(end - start)\n",
    "print(\"Mean value: \" + SVMmvalue)\n",
    "print(\"Training time: \" + SVMttime)"
   ]
  },
  {
   "cell_type": "code",
   "execution_count": 34,
   "id": "edb7deff",
   "metadata": {},
   "outputs": [
    {
     "name": "stdout",
     "output_type": "stream",
     "text": [
      "Mean value: 0.7935888345269327\n",
      "Training time: 0.78312087059021\n"
     ]
    }
   ],
   "source": [
    "#Stochastic Gradient Descent Classifier\n",
    "\n",
    "from sklearn.linear_model import SGDClassifier\n",
    "\n",
    "kfold = KFold(n_splits = 10, random_state = 7, shuffle = True)\n",
    "\n",
    "model = SGDClassifier()\n",
    "start = time()\n",
    "#result ta parametreler sırasıyla kullanılan algo. vektörize edilmiş girdi verisi\n",
    "#sonucu karşılaştırmak için kullanılacak veriler\n",
    "results = cross_val_score(model, training_vectorizer, Y2_train, cv=kfold)\n",
    "end = time()\n",
    "SGDCmvalue =  str(results.mean())\n",
    "SGDCttime = str(end - start)\n",
    "print(\"Mean value: \" + SGDCmvalue)\n",
    "print(\"Training time: \" + SGDCttime)"
   ]
  },
  {
   "cell_type": "code",
   "execution_count": 35,
   "id": "cd68adbe",
   "metadata": {},
   "outputs": [
    {
     "name": "stdout",
     "output_type": "stream",
     "text": [
      "Requirement already satisfied: xgboost in c:\\users\\selin\\anaconda3\\lib\\site-packages (1.7.1)\n",
      "Requirement already satisfied: numpy in c:\\users\\selin\\anaconda3\\lib\\site-packages (from xgboost) (1.21.5)\n",
      "Requirement already satisfied: scipy in c:\\users\\selin\\anaconda3\\lib\\site-packages (from xgboost) (1.9.1)\n"
     ]
    }
   ],
   "source": [
    "!pip install xgboost"
   ]
  },
  {
   "cell_type": "code",
   "execution_count": 36,
   "id": "e299e374",
   "metadata": {},
   "outputs": [
    {
     "name": "stdout",
     "output_type": "stream",
     "text": [
      "Mean value: 0.7096985967769147\n",
      "Training time: 7.939887285232544\n"
     ]
    }
   ],
   "source": [
    "# XGBoost\n",
    "\n",
    "from xgboost import XGBClassifier\n",
    "\n",
    "model = XGBClassifier()\n",
    "start = time()\n",
    "#result ta parametreler sırasıyla kullanılan algo. vektörize edilmiş girdi verisi\n",
    "#sonucu karşılaştırmak için kullanılacak veriler\n",
    "results = cross_val_score(model, training_vectorizer, Y2_train, cv=kfold)\n",
    "end = time()\n",
    "Xmvalue = str(results.mean())\n",
    "Xttime = str(end - start)\n",
    "print(\"Mean value: \" + Xmvalue)\n",
    "print(\"Training time: \" + Xttime)\n"
   ]
  },
  {
   "cell_type": "code",
   "execution_count": 38,
   "id": "687ca27a",
   "metadata": {},
   "outputs": [
    {
     "name": "stdout",
     "output_type": "stream",
     "text": [
      "                              Mean Accuracy       Training Time\n",
      "Multinomial Naive Bayes  0.8227032481065006  0.0508267879486084\n",
      "SVM                      0.7680529372979256  254.48486018180847\n",
      "SGDC                     0.7935888345269327    0.78312087059021\n",
      "XGBoost                  0.7096985967769147   7.939887285232544\n"
     ]
    }
   ],
   "source": [
    "#sonuçları bir tablo olarak görmek için:\n",
    "data = numpy.array([[NBmvalue, NBttime], [SVMmvalue, SVMttime], [SGDCmvalue, SGDCttime], [Xmvalue, Xttime]])\n",
    "row_name = ['Multinomial Naive Bayes', 'SVM', 'SGDC','XGBoost']\n",
    "column_name = ['Mean Accuracy', 'Training Time']\n",
    "dataset = pandas.DataFrame(data=data,index = row_name ,columns=column_name)\n",
    "print(dataset)"
   ]
  },
  {
   "cell_type": "code",
   "execution_count": null,
   "id": "68ebab50",
   "metadata": {},
   "outputs": [],
   "source": []
  }
 ],
 "metadata": {
  "kernelspec": {
   "display_name": "Python 3 (ipykernel)",
   "language": "python",
   "name": "python3"
  },
  "language_info": {
   "codemirror_mode": {
    "name": "ipython",
    "version": 3
   },
   "file_extension": ".py",
   "mimetype": "text/x-python",
   "name": "python",
   "nbconvert_exporter": "python",
   "pygments_lexer": "ipython3",
   "version": "3.9.13"
  }
 },
 "nbformat": 4,
 "nbformat_minor": 5
}
